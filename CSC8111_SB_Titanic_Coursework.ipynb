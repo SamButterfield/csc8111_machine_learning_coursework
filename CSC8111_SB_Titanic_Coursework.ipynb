{
 "cells": [
  {
   "cell_type": "markdown",
   "metadata": {},
   "source": [
    "# Machine Learning Titanic Courswork\n",
    "\n",
    "## Courswork Task\n",
    "“The sinking of the RMS Titanic is one of the most infamous shipwrecks in history.  On April 15, 1912, during her maiden voyage, the Titanic sank after colliding with an iceberg, **killing 1502 out of 2224 passengers and crew.** This sensational tragedy shocked the international community and led to better safety regulations for ships.\n",
    "\n",
    "One of the reasons that the shipwreck led to such loss of life was that there were **not enough lifeboats for the passengers and crew. Although there was some element of luck involved** in surviving the sinking, some groups of people were more likely to survive than others, such as women, children, and the upper-class.”\n",
    "\n",
    "For this assignment you will **analyse the Titanic dataset with regards to predicting what categories of passengers were likely to survive** the sinking of the ocean liner. You will be **using machine learning methods to predict** as accurate as possible from general information about passengers which **passengers survived the tragedy.**\n",
    "\n",
    "### Experiments\n",
    "\n",
    "Develop a complete analysis pipeline in a programming language / environment of your choice. \n",
    "\n",
    "The objective of the analysis is to predict survivors of the Titanic disaster from the given data as accurately as possible.\n",
    "\n",
    "There are no limitations with regards to the modelling approach, that is, you are free to explore (and report) as many methods, and their results, as you wish. The minimum requirement though is that you analyse the dataset using the following two classifiers:\n",
    "- Logistic regression classifier\n",
    "- Random forest classifier\n",
    "\n",
    "You will report the results of your experiments through prediction, that is, classification accuracies with regard to correctly predicted survival rates."
   ]
  },
  {
   "cell_type": "markdown",
   "metadata": {},
   "source": [
    "# Data Dictionary & General Setup\n",
    "The data provided for this assignment has been split into a training set and a test set, this test test set is also the ground truth."
   ]
  },
  {
   "cell_type": "code",
   "execution_count": 2,
   "metadata": {},
   "outputs": [],
   "source": [
    "# Imports\n",
    "import pandas as pd\n",
    "import numpy as np\n",
    "import matplotlib.pyplot as plt\n",
    "import seaborn as sns\n",
    "\n",
    "# Set Pallet\n",
    "#sns.set_palette(\"pastel\")"
   ]
  },
  {
   "cell_type": "code",
   "execution_count": 3,
   "metadata": {},
   "outputs": [],
   "source": [
    "# Importing Datasets\n",
    "test_df = pd.read_csv('testdata_with_groundTruth.csv')\n",
    "train_df = pd.read_csv('train.csv')"
   ]
  },
  {
   "cell_type": "markdown",
   "metadata": {},
   "source": [
    "## Test Data\n",
    "\n",
    "### Overview"
   ]
  },
  {
   "cell_type": "code",
   "execution_count": 4,
   "metadata": {},
   "outputs": [
    {
     "name": "stdout",
     "output_type": "stream",
     "text": [
      "Test Data Dimensions <Rows, Cols>: (418, 12)\n"
     ]
    },
    {
     "data": {
      "text/html": [
       "<div>\n",
       "<style scoped>\n",
       "    .dataframe tbody tr th:only-of-type {\n",
       "        vertical-align: middle;\n",
       "    }\n",
       "\n",
       "    .dataframe tbody tr th {\n",
       "        vertical-align: top;\n",
       "    }\n",
       "\n",
       "    .dataframe thead th {\n",
       "        text-align: right;\n",
       "    }\n",
       "</style>\n",
       "<table border=\"1\" class=\"dataframe\">\n",
       "  <thead>\n",
       "    <tr style=\"text-align: right;\">\n",
       "      <th></th>\n",
       "      <th>PassengerId</th>\n",
       "      <th>Survived</th>\n",
       "      <th>Pclass</th>\n",
       "      <th>Name</th>\n",
       "      <th>Sex</th>\n",
       "      <th>Age</th>\n",
       "      <th>SibSp</th>\n",
       "      <th>Parch</th>\n",
       "      <th>Ticket</th>\n",
       "      <th>Fare</th>\n",
       "      <th>Cabin</th>\n",
       "      <th>Embarked</th>\n",
       "    </tr>\n",
       "  </thead>\n",
       "  <tbody>\n",
       "    <tr>\n",
       "      <th>0</th>\n",
       "      <td>892</td>\n",
       "      <td>0</td>\n",
       "      <td>3</td>\n",
       "      <td>Kelly, Mr. James</td>\n",
       "      <td>male</td>\n",
       "      <td>34.5</td>\n",
       "      <td>0</td>\n",
       "      <td>0</td>\n",
       "      <td>330911</td>\n",
       "      <td>7.8292</td>\n",
       "      <td>NaN</td>\n",
       "      <td>Q</td>\n",
       "    </tr>\n",
       "    <tr>\n",
       "      <th>1</th>\n",
       "      <td>893</td>\n",
       "      <td>1</td>\n",
       "      <td>3</td>\n",
       "      <td>Wilkes, Mrs. James (Ellen Needs)</td>\n",
       "      <td>female</td>\n",
       "      <td>47.0</td>\n",
       "      <td>1</td>\n",
       "      <td>0</td>\n",
       "      <td>363272</td>\n",
       "      <td>7.0000</td>\n",
       "      <td>NaN</td>\n",
       "      <td>S</td>\n",
       "    </tr>\n",
       "    <tr>\n",
       "      <th>2</th>\n",
       "      <td>894</td>\n",
       "      <td>0</td>\n",
       "      <td>2</td>\n",
       "      <td>Myles, Mr. Thomas Francis</td>\n",
       "      <td>male</td>\n",
       "      <td>62.0</td>\n",
       "      <td>0</td>\n",
       "      <td>0</td>\n",
       "      <td>240276</td>\n",
       "      <td>9.6875</td>\n",
       "      <td>NaN</td>\n",
       "      <td>Q</td>\n",
       "    </tr>\n",
       "    <tr>\n",
       "      <th>3</th>\n",
       "      <td>895</td>\n",
       "      <td>0</td>\n",
       "      <td>3</td>\n",
       "      <td>Wirz, Mr. Albert</td>\n",
       "      <td>male</td>\n",
       "      <td>27.0</td>\n",
       "      <td>0</td>\n",
       "      <td>0</td>\n",
       "      <td>315154</td>\n",
       "      <td>8.6625</td>\n",
       "      <td>NaN</td>\n",
       "      <td>S</td>\n",
       "    </tr>\n",
       "    <tr>\n",
       "      <th>4</th>\n",
       "      <td>896</td>\n",
       "      <td>1</td>\n",
       "      <td>3</td>\n",
       "      <td>Hirvonen, Mrs. Alexander (Helga E Lindqvist)</td>\n",
       "      <td>female</td>\n",
       "      <td>22.0</td>\n",
       "      <td>1</td>\n",
       "      <td>1</td>\n",
       "      <td>3101298</td>\n",
       "      <td>12.2875</td>\n",
       "      <td>NaN</td>\n",
       "      <td>S</td>\n",
       "    </tr>\n",
       "  </tbody>\n",
       "</table>\n",
       "</div>"
      ],
      "text/plain": [
       "   PassengerId  Survived  Pclass  \\\n",
       "0          892         0       3   \n",
       "1          893         1       3   \n",
       "2          894         0       2   \n",
       "3          895         0       3   \n",
       "4          896         1       3   \n",
       "\n",
       "                                           Name     Sex   Age  SibSp  Parch  \\\n",
       "0                              Kelly, Mr. James    male  34.5      0      0   \n",
       "1              Wilkes, Mrs. James (Ellen Needs)  female  47.0      1      0   \n",
       "2                     Myles, Mr. Thomas Francis    male  62.0      0      0   \n",
       "3                              Wirz, Mr. Albert    male  27.0      0      0   \n",
       "4  Hirvonen, Mrs. Alexander (Helga E Lindqvist)  female  22.0      1      1   \n",
       "\n",
       "    Ticket     Fare Cabin Embarked  \n",
       "0   330911   7.8292   NaN        Q  \n",
       "1   363272   7.0000   NaN        S  \n",
       "2   240276   9.6875   NaN        Q  \n",
       "3   315154   8.6625   NaN        S  \n",
       "4  3101298  12.2875   NaN        S  "
      ]
     },
     "execution_count": 4,
     "metadata": {},
     "output_type": "execute_result"
    }
   ],
   "source": [
    "print(\"Test Data Dimensions <Rows, Cols>: \" + str(test_df.shape))\n",
    "test_df.head(5)"
   ]
  },
  {
   "cell_type": "markdown",
   "metadata": {},
   "source": [
    "### Quality\n",
    "The 9 of the 12 columns are complete with no NaN's, Fare has one missing value, Age has 82 missing values and Cabin has 327 missing values. Age and Fare should be easy to impute based on other columns, but Cabin may be an issue and might not be worth imputing at all."
   ]
  },
  {
   "cell_type": "code",
   "execution_count": 5,
   "metadata": {},
   "outputs": [
    {
     "name": "stdout",
     "output_type": "stream",
     "text": [
      "<class 'pandas.core.frame.DataFrame'>\n",
      "RangeIndex: 418 entries, 0 to 417\n",
      "Data columns (total 12 columns):\n",
      " #   Column       Non-Null Count  Dtype  \n",
      "---  ------       --------------  -----  \n",
      " 0   PassengerId  418 non-null    int64  \n",
      " 1   Survived     418 non-null    int64  \n",
      " 2   Pclass       418 non-null    int64  \n",
      " 3   Name         418 non-null    object \n",
      " 4   Sex          418 non-null    object \n",
      " 5   Age          332 non-null    float64\n",
      " 6   SibSp        418 non-null    int64  \n",
      " 7   Parch        418 non-null    int64  \n",
      " 8   Ticket       418 non-null    object \n",
      " 9   Fare         417 non-null    float64\n",
      " 10  Cabin        91 non-null     object \n",
      " 11  Embarked     418 non-null    object \n",
      "dtypes: float64(2), int64(5), object(5)\n",
      "memory usage: 39.3+ KB\n"
     ]
    }
   ],
   "source": [
    "test_df.info()"
   ]
  },
  {
   "cell_type": "markdown",
   "metadata": {},
   "source": [
    "## Training Data\n",
    "\n",
    "### Overview"
   ]
  },
  {
   "cell_type": "code",
   "execution_count": 6,
   "metadata": {},
   "outputs": [
    {
     "name": "stdout",
     "output_type": "stream",
     "text": [
      "Training Data Dimensions <Rows, Cols>: (891, 12)\n"
     ]
    },
    {
     "data": {
      "text/html": [
       "<div>\n",
       "<style scoped>\n",
       "    .dataframe tbody tr th:only-of-type {\n",
       "        vertical-align: middle;\n",
       "    }\n",
       "\n",
       "    .dataframe tbody tr th {\n",
       "        vertical-align: top;\n",
       "    }\n",
       "\n",
       "    .dataframe thead th {\n",
       "        text-align: right;\n",
       "    }\n",
       "</style>\n",
       "<table border=\"1\" class=\"dataframe\">\n",
       "  <thead>\n",
       "    <tr style=\"text-align: right;\">\n",
       "      <th></th>\n",
       "      <th>PassengerId</th>\n",
       "      <th>Survived</th>\n",
       "      <th>Pclass</th>\n",
       "      <th>Name</th>\n",
       "      <th>Sex</th>\n",
       "      <th>Age</th>\n",
       "      <th>SibSp</th>\n",
       "      <th>Parch</th>\n",
       "      <th>Ticket</th>\n",
       "      <th>Fare</th>\n",
       "      <th>Cabin</th>\n",
       "      <th>Embarked</th>\n",
       "    </tr>\n",
       "  </thead>\n",
       "  <tbody>\n",
       "    <tr>\n",
       "      <th>0</th>\n",
       "      <td>1</td>\n",
       "      <td>0</td>\n",
       "      <td>3</td>\n",
       "      <td>Braund, Mr. Owen Harris</td>\n",
       "      <td>male</td>\n",
       "      <td>22.0</td>\n",
       "      <td>1</td>\n",
       "      <td>0</td>\n",
       "      <td>A/5 21171</td>\n",
       "      <td>7.2500</td>\n",
       "      <td>NaN</td>\n",
       "      <td>S</td>\n",
       "    </tr>\n",
       "    <tr>\n",
       "      <th>1</th>\n",
       "      <td>2</td>\n",
       "      <td>1</td>\n",
       "      <td>1</td>\n",
       "      <td>Cumings, Mrs. John Bradley (Florence Briggs Th...</td>\n",
       "      <td>female</td>\n",
       "      <td>38.0</td>\n",
       "      <td>1</td>\n",
       "      <td>0</td>\n",
       "      <td>PC 17599</td>\n",
       "      <td>71.2833</td>\n",
       "      <td>C85</td>\n",
       "      <td>C</td>\n",
       "    </tr>\n",
       "    <tr>\n",
       "      <th>2</th>\n",
       "      <td>3</td>\n",
       "      <td>1</td>\n",
       "      <td>3</td>\n",
       "      <td>Heikkinen, Miss. Laina</td>\n",
       "      <td>female</td>\n",
       "      <td>26.0</td>\n",
       "      <td>0</td>\n",
       "      <td>0</td>\n",
       "      <td>STON/O2. 3101282</td>\n",
       "      <td>7.9250</td>\n",
       "      <td>NaN</td>\n",
       "      <td>S</td>\n",
       "    </tr>\n",
       "    <tr>\n",
       "      <th>3</th>\n",
       "      <td>4</td>\n",
       "      <td>1</td>\n",
       "      <td>1</td>\n",
       "      <td>Futrelle, Mrs. Jacques Heath (Lily May Peel)</td>\n",
       "      <td>female</td>\n",
       "      <td>35.0</td>\n",
       "      <td>1</td>\n",
       "      <td>0</td>\n",
       "      <td>113803</td>\n",
       "      <td>53.1000</td>\n",
       "      <td>C123</td>\n",
       "      <td>S</td>\n",
       "    </tr>\n",
       "    <tr>\n",
       "      <th>4</th>\n",
       "      <td>5</td>\n",
       "      <td>0</td>\n",
       "      <td>3</td>\n",
       "      <td>Allen, Mr. William Henry</td>\n",
       "      <td>male</td>\n",
       "      <td>35.0</td>\n",
       "      <td>0</td>\n",
       "      <td>0</td>\n",
       "      <td>373450</td>\n",
       "      <td>8.0500</td>\n",
       "      <td>NaN</td>\n",
       "      <td>S</td>\n",
       "    </tr>\n",
       "  </tbody>\n",
       "</table>\n",
       "</div>"
      ],
      "text/plain": [
       "   PassengerId  Survived  Pclass  \\\n",
       "0            1         0       3   \n",
       "1            2         1       1   \n",
       "2            3         1       3   \n",
       "3            4         1       1   \n",
       "4            5         0       3   \n",
       "\n",
       "                                                Name     Sex   Age  SibSp  \\\n",
       "0                            Braund, Mr. Owen Harris    male  22.0      1   \n",
       "1  Cumings, Mrs. John Bradley (Florence Briggs Th...  female  38.0      1   \n",
       "2                             Heikkinen, Miss. Laina  female  26.0      0   \n",
       "3       Futrelle, Mrs. Jacques Heath (Lily May Peel)  female  35.0      1   \n",
       "4                           Allen, Mr. William Henry    male  35.0      0   \n",
       "\n",
       "   Parch            Ticket     Fare Cabin Embarked  \n",
       "0      0         A/5 21171   7.2500   NaN        S  \n",
       "1      0          PC 17599  71.2833   C85        C  \n",
       "2      0  STON/O2. 3101282   7.9250   NaN        S  \n",
       "3      0            113803  53.1000  C123        S  \n",
       "4      0            373450   8.0500   NaN        S  "
      ]
     },
     "execution_count": 6,
     "metadata": {},
     "output_type": "execute_result"
    }
   ],
   "source": [
    "print(\"Training Data Dimensions <Rows, Cols>: \" + str(train_df.shape))\n",
    "train_df.head(5)"
   ]
  },
  {
   "cell_type": "markdown",
   "metadata": {},
   "source": [
    "### Quality\n",
    "10 out of the 12 columns have no NaN values. Age has 177 missing values and Cabin has 687 missing values. Similarly to the test set, Age will be easy to impute but Cabin may be an issue."
   ]
  },
  {
   "cell_type": "code",
   "execution_count": 7,
   "metadata": {},
   "outputs": [
    {
     "name": "stdout",
     "output_type": "stream",
     "text": [
      "<class 'pandas.core.frame.DataFrame'>\n",
      "RangeIndex: 891 entries, 0 to 890\n",
      "Data columns (total 12 columns):\n",
      " #   Column       Non-Null Count  Dtype  \n",
      "---  ------       --------------  -----  \n",
      " 0   PassengerId  891 non-null    int64  \n",
      " 1   Survived     891 non-null    int64  \n",
      " 2   Pclass       891 non-null    int64  \n",
      " 3   Name         891 non-null    object \n",
      " 4   Sex          891 non-null    object \n",
      " 5   Age          714 non-null    float64\n",
      " 6   SibSp        891 non-null    int64  \n",
      " 7   Parch        891 non-null    int64  \n",
      " 8   Ticket       891 non-null    object \n",
      " 9   Fare         891 non-null    float64\n",
      " 10  Cabin        204 non-null    object \n",
      " 11  Embarked     889 non-null    object \n",
      "dtypes: float64(2), int64(5), object(5)\n",
      "memory usage: 83.7+ KB\n"
     ]
    }
   ],
   "source": [
    "train_df.info()"
   ]
  },
  {
   "cell_type": "markdown",
   "metadata": {},
   "source": [
    "## Dictionary\n",
    "\n",
    "|Attribute |Description |Possible Values |\n",
    "|----------|------------|----------------|\n",
    "|Survived  |If they Survived or not|0 = no, 1 = yes|\n",
    "|Pclass    |Class of the passengers ticket|1 = First, 2 = Second and 3 = Third|\n",
    "|Name      |Name of Passenger, including Title|Mr John Doe (String)|\n",
    "|Sex       |Gender|Male, Female|\n",
    "|Age       |Age of the passenger| 50 (Int)|\n",
    "|Sibsp     |Number of Siblings/Spouses Aboard|2 (int)|\n",
    "|Parch     |Number of Parents/Children Aboard|2 (int)|\n",
    "|Ticket    |Ticket Number|PC127321 (String, no form)|\n",
    "|Fare      |Fare Passenger paind for ticket|120 (int)|\n",
    "|Cabin     |Cabin than Passenger had, if they had one|C123 (String)|\n",
    "|Embarked  |Location they Boarded the Titanic|C = Cherbourg; Q = Queenstown; S = Southampton|"
   ]
  },
  {
   "cell_type": "markdown",
   "metadata": {},
   "source": [
    "# Graphical Understanding of the Features\n",
    "In this section I will graphical represent the features in the training data to see if there is any correlation between the values of the feature and if they survived or not. Im this I will not look at PassengerId as it is has been added after the event for data management purposes, Name as this is most likely unique to an indivdual and an overall trend should not be visable and Ticket as this is unique to an individual and an overall trend should not be visible.\n",
    "\n",
    "## Pclass\n",
    "For the survivors, there is not a lot of difference between the 3 classes, but second class had the least survivors. For the perished, third class had over 3 times as many as fatalities as any other class. When comparing the number of individuals per class, you can see that first and second class have similar passenger numbers with similar passenger survived/perished, but third class had the highest number of passengers but also the highest proportion of people that perished."
   ]
  },
  {
   "cell_type": "code",
   "execution_count": 8,
   "metadata": {},
   "outputs": [
    {
     "name": "stdout",
     "output_type": "stream",
     "text": [
      "Pclass\n",
      "1    216\n",
      "2    184\n",
      "3    491\n",
      "Name: PassengerId, dtype: int64\n"
     ]
    },
    {
     "data": {
      "image/png": "[encoded data removed]",
      "text/plain": [
       "<Figure size 720x540 with 1 Axes>"
      ]
     },
     "metadata": {
      "needs_background": "light"
     },
     "output_type": "display_data"
    }
   ],
   "source": [
    "plt.figure(figsize = (10, 7.5))\n",
    "sns.countplot(x = 'Survived', hue = 'Pclass', data = train_df)\n",
    "print(train_df.groupby(['Pclass']).count().iloc[:,0])"
   ]
  },
  {
   "cell_type": "code",
   "execution_count": 9,
   "metadata": {},
   "outputs": [
    {
     "data": {
      "text/plain": [
       "<matplotlib.axes._subplots.AxesSubplot at 0x179898e7288>"
      ]
     },
     "execution_count": 9,
     "metadata": {},
     "output_type": "execute_result"
    },
    {
     "data": {
      "image/png": "[encoded data removed]",
      "text/plain": [
       "<Figure size 720x540 with 1 Axes>"
      ]
     },
     "metadata": {
      "needs_background": "light"
     },
     "output_type": "display_data"
    }
   ],
   "source": [
    "plt.figure(figsize = (10, 7.5))\n",
    "sns.countplot(data = train_df, x = 'Pclass', hue = 'Survived')"
   ]
  },
  {
   "cell_type": "markdown",
   "metadata": {},
   "source": [
    "## Sex\n",
    "When looking at Sex, it is clear that Males had the highest fatality rate."
   ]
  },
  {
   "cell_type": "code",
   "execution_count": 10,
   "metadata": {},
   "outputs": [
    {
     "data": {
      "text/plain": [
       "<matplotlib.axes._subplots.AxesSubplot at 0x1798996b408>"
      ]
     },
     "execution_count": 10,
     "metadata": {},
     "output_type": "execute_result"
    },
    {
     "data": {
      "image/png": "[encoded data removed]",
      "text/plain": [
       "<Figure size 720x540 with 1 Axes>"
      ]
     },
     "metadata": {
      "needs_background": "light"
     },
     "output_type": "display_data"
    }
   ],
   "source": [
    "plt.figure(figsize = (10, 7.5))\n",
    "sns.countplot(x = 'Survived', hue = 'Sex', data = train_df)"
   ]
  },
  {
   "cell_type": "markdown",
   "metadata": {},
   "source": [
    "## Age\n",
    "Children under 15 had the highest survivorship rate, with individuals aged 15 to 50 had a low chance of surviving. I suspect that Sex had a major role in determaning if you survived especially if you were over the age of 18."
   ]
  },
  {
   "cell_type": "code",
   "execution_count": 11,
   "metadata": {},
   "outputs": [
    {
     "data": {
      "text/plain": [
       "<matplotlib.axes._subplots.AxesSubplot at 0x17989a9e808>"
      ]
     },
     "execution_count": 11,
     "metadata": {},
     "output_type": "execute_result"
    },
    {
     "data": {
      "image/png": "[encoded data removed]",
      "text/plain": [
       "<Figure size 720x540 with 1 Axes>"
      ]
     },
     "metadata": {
      "needs_background": "light"
     },
     "output_type": "display_data"
    }
   ],
   "source": [
    "plt.figure(figsize = (10, 7.5))\n",
    "sns.histplot(data = train_df, x=\"Age\", hue = \"Survived\"\n",
    "             , multiple = \"stack\", element = \"step\", kde = True, bins = 16)"
   ]
  },
  {
   "cell_type": "markdown",
   "metadata": {},
   "source": [
    "## SibSp\n",
    "Lone passengers had the highest fatlity rate."
   ]
  },
  {
   "cell_type": "code",
   "execution_count": 12,
   "metadata": {},
   "outputs": [
    {
     "data": {
      "text/plain": [
       "<matplotlib.axes._subplots.AxesSubplot at 0x179899d8108>"
      ]
     },
     "execution_count": 12,
     "metadata": {},
     "output_type": "execute_result"
    },
    {
     "data": {
      "image/png": "[encoded data removed]",
      "text/plain": [
       "<Figure size 720x540 with 1 Axes>"
      ]
     },
     "metadata": {
      "needs_background": "light"
     },
     "output_type": "display_data"
    }
   ],
   "source": [
    "plt.figure(figsize = (10, 7.5))\n",
    "sns.countplot(data = train_df, x=\"SibSp\", hue = \"Survived\")"
   ]
  },
  {
   "cell_type": "markdown",
   "metadata": {},
   "source": [
    "## Parch\n",
    "Lone passengers had the highest fatility rate, with people that travelled with family tended to have a higher level of survival."
   ]
  },
  {
   "cell_type": "code",
   "execution_count": 13,
   "metadata": {},
   "outputs": [
    {
     "data": {
      "text/plain": [
       "<matplotlib.axes._subplots.AxesSubplot at 0x1798a00e3c8>"
      ]
     },
     "execution_count": 13,
     "metadata": {},
     "output_type": "execute_result"
    },
    {
     "data": {
      "image/png": "[encoded data removed]",
      "text/plain": [
       "<Figure size 720x540 with 1 Axes>"
      ]
     },
     "metadata": {
      "needs_background": "light"
     },
     "output_type": "display_data"
    }
   ],
   "source": [
    "plt.figure(figsize = (10, 7.5))\n",
    "sns.countplot(data = train_df, x=\"Parch\", hue = \"Survived\")"
   ]
  },
  {
   "cell_type": "markdown",
   "metadata": {},
   "source": [
    "## Fare\n",
    "The majority of individuals had a low fare price, this is inline with the majority of passengers travelled third class."
   ]
  },
  {
   "cell_type": "code",
   "execution_count": 14,
   "metadata": {},
   "outputs": [
    {
     "data": {
      "text/plain": [
       "<matplotlib.axes._subplots.AxesSubplot at 0x1798a083d48>"
      ]
     },
     "execution_count": 14,
     "metadata": {},
     "output_type": "execute_result"
    },
    {
     "data": {
      "image/png": "[encoded data removed]",
      "text/plain": [
       "<Figure size 720x540 with 1 Axes>"
      ]
     },
     "metadata": {
      "needs_background": "light"
     },
     "output_type": "display_data"
    }
   ],
   "source": [
    "plt.figure(figsize = (10, 7.5))\n",
    "sns.histplot(data = train_df, x=\"Fare\", hue = \"Survived\"\n",
    "             , multiple = \"stack\", element = \"step\", kde = True, bins = 20)"
   ]
  },
  {
   "cell_type": "markdown",
   "metadata": {},
   "source": [
    "## Embarked\n",
    "The majority of people got on the ship at Southhampton, and that port has a higher rate of death."
   ]
  },
  {
   "cell_type": "code",
   "execution_count": 15,
   "metadata": {},
   "outputs": [
    {
     "data": {
      "text/plain": [
       "<matplotlib.axes._subplots.AxesSubplot at 0x1798a0a9108>"
      ]
     },
     "execution_count": 15,
     "metadata": {},
     "output_type": "execute_result"
    },
    {
     "data": {
      "image/png": "[encoded data removed]",
      "text/plain": [
       "<Figure size 720x540 with 1 Axes>"
      ]
     },
     "metadata": {
      "needs_background": "light"
     },
     "output_type": "display_data"
    }
   ],
   "source": [
    "plt.figure(figsize = (10, 7.5))\n",
    "sns.countplot(data = train_df, x=\"Embarked\", hue = \"Survived\")"
   ]
  },
  {
   "cell_type": "markdown",
   "metadata": {},
   "source": [
    "## Correlation Summary\n",
    "Below is a correlation matrix between all the varibles, most notable the line comparing variables to Survived we can see that Pclass and Sex have some of the strongets correlations, these are negative correlations due to younger people having higher chance of survival and Female is assigned the numerical value 0."
   ]
  },
  {
   "cell_type": "code",
   "execution_count": 16,
   "metadata": {},
   "outputs": [
    {
     "data": {
      "text/plain": [
       "<matplotlib.axes._subplots.AxesSubplot at 0x1798a00eec8>"
      ]
     },
     "execution_count": 16,
     "metadata": {},
     "output_type": "execute_result"
    },
    {
     "data": {
      "image/png": "[encoded data removed]",
      "text/plain": [
       "<Figure size 720x540 with 2 Axes>"
      ]
     },
     "metadata": {
      "needs_background": "light"
     },
     "output_type": "display_data"
    }
   ],
   "source": [
    "plt.figure(figsize = (10, 7.5))\n",
    "\n",
    "scrap_train_df = train_df.copy()\n",
    "scrap_train_df['Sex'] = train_df['Sex'].astype('category').cat.codes\n",
    "scrap_train_df = pd.get_dummies(scrap_train_df, columns=['Embarked'])\n",
    "corr = scrap_train_df[['Pclass', 'Sex', 'Age', 'SibSp', 'Parch', 'Embarked_C', 'Embarked_Q', 'Embarked_S', 'Survived']].corr()\n",
    "\n",
    "# Generate a mask for the upper triangle\n",
    "mask = np.triu(np.ones_like(corr, dtype=bool))\n",
    "\n",
    "# Generate a custom diverging colormap\n",
    "cmap = sns.diverging_palette(230, 20, as_cmap=True)\n",
    "\n",
    "# Draw the heatmap with the mask and correct aspect ratio\n",
    "sns.heatmap(corr, mask=mask, cmap=cmap, vmax=1, vmin=-1, center=0,\n",
    "            square=True, linewidths=.5, cbar_kws={\"shrink\": .5})"
   ]
  },
  {
   "cell_type": "markdown",
   "metadata": {},
   "source": [
    "# Feature Extraction\n",
    "Some of the features are not compatable in there raw form to be put into a model but there still might be information there, I can engineer new features with the extracted information.\n",
    "\n",
    "**Features to Extract:**\n",
    "- Title from Name, could help impute Age more accurately. I will do this trough regex as from initial looking all titles are followed by a '.' .\n",
    "- Family Size, There could be some relation to the size of the family and if they survived or not.\n",
    "- Surname, to identify family members.\n",
    "- Other members survived, this will be used as a \"Look Forward Feature\"."
   ]
  },
  {
   "cell_type": "code",
   "execution_count": 17,
   "metadata": {},
   "outputs": [
    {
     "data": {
      "text/html": [
       "<div>\n",
       "<style scoped>\n",
       "    .dataframe tbody tr th:only-of-type {\n",
       "        vertical-align: middle;\n",
       "    }\n",
       "\n",
       "    .dataframe tbody tr th {\n",
       "        vertical-align: top;\n",
       "    }\n",
       "\n",
       "    .dataframe thead th {\n",
       "        text-align: right;\n",
       "    }\n",
       "</style>\n",
       "<table border=\"1\" class=\"dataframe\">\n",
       "  <thead>\n",
       "    <tr style=\"text-align: right;\">\n",
       "      <th></th>\n",
       "      <th>PassengerId</th>\n",
       "      <th>Survived</th>\n",
       "      <th>Pclass</th>\n",
       "      <th>Name</th>\n",
       "      <th>Sex</th>\n",
       "      <th>Age</th>\n",
       "      <th>SibSp</th>\n",
       "      <th>Parch</th>\n",
       "      <th>Ticket</th>\n",
       "      <th>Fare</th>\n",
       "      <th>Cabin</th>\n",
       "      <th>Embarked</th>\n",
       "    </tr>\n",
       "  </thead>\n",
       "  <tbody>\n",
       "    <tr>\n",
       "      <th>0</th>\n",
       "      <td>1</td>\n",
       "      <td>0</td>\n",
       "      <td>3</td>\n",
       "      <td>Braund, Mr. Owen Harris</td>\n",
       "      <td>male</td>\n",
       "      <td>22.0</td>\n",
       "      <td>1</td>\n",
       "      <td>0</td>\n",
       "      <td>A/5 21171</td>\n",
       "      <td>7.2500</td>\n",
       "      <td>NaN</td>\n",
       "      <td>S</td>\n",
       "    </tr>\n",
       "    <tr>\n",
       "      <th>1</th>\n",
       "      <td>2</td>\n",
       "      <td>1</td>\n",
       "      <td>1</td>\n",
       "      <td>Cumings, Mrs. John Bradley (Florence Briggs Th...</td>\n",
       "      <td>female</td>\n",
       "      <td>38.0</td>\n",
       "      <td>1</td>\n",
       "      <td>0</td>\n",
       "      <td>PC 17599</td>\n",
       "      <td>71.2833</td>\n",
       "      <td>C85</td>\n",
       "      <td>C</td>\n",
       "    </tr>\n",
       "    <tr>\n",
       "      <th>2</th>\n",
       "      <td>3</td>\n",
       "      <td>1</td>\n",
       "      <td>3</td>\n",
       "      <td>Heikkinen, Miss. Laina</td>\n",
       "      <td>female</td>\n",
       "      <td>26.0</td>\n",
       "      <td>0</td>\n",
       "      <td>0</td>\n",
       "      <td>STON/O2. 3101282</td>\n",
       "      <td>7.9250</td>\n",
       "      <td>NaN</td>\n",
       "      <td>S</td>\n",
       "    </tr>\n",
       "    <tr>\n",
       "      <th>3</th>\n",
       "      <td>4</td>\n",
       "      <td>1</td>\n",
       "      <td>1</td>\n",
       "      <td>Futrelle, Mrs. Jacques Heath (Lily May Peel)</td>\n",
       "      <td>female</td>\n",
       "      <td>35.0</td>\n",
       "      <td>1</td>\n",
       "      <td>0</td>\n",
       "      <td>113803</td>\n",
       "      <td>53.1000</td>\n",
       "      <td>C123</td>\n",
       "      <td>S</td>\n",
       "    </tr>\n",
       "    <tr>\n",
       "      <th>4</th>\n",
       "      <td>5</td>\n",
       "      <td>0</td>\n",
       "      <td>3</td>\n",
       "      <td>Allen, Mr. William Henry</td>\n",
       "      <td>male</td>\n",
       "      <td>35.0</td>\n",
       "      <td>0</td>\n",
       "      <td>0</td>\n",
       "      <td>373450</td>\n",
       "      <td>8.0500</td>\n",
       "      <td>NaN</td>\n",
       "      <td>S</td>\n",
       "    </tr>\n",
       "    <tr>\n",
       "      <th>5</th>\n",
       "      <td>6</td>\n",
       "      <td>0</td>\n",
       "      <td>3</td>\n",
       "      <td>Moran, Mr. James</td>\n",
       "      <td>male</td>\n",
       "      <td>NaN</td>\n",
       "      <td>0</td>\n",
       "      <td>0</td>\n",
       "      <td>330877</td>\n",
       "      <td>8.4583</td>\n",
       "      <td>NaN</td>\n",
       "      <td>Q</td>\n",
       "    </tr>\n",
       "    <tr>\n",
       "      <th>6</th>\n",
       "      <td>7</td>\n",
       "      <td>0</td>\n",
       "      <td>1</td>\n",
       "      <td>McCarthy, Mr. Timothy J</td>\n",
       "      <td>male</td>\n",
       "      <td>54.0</td>\n",
       "      <td>0</td>\n",
       "      <td>0</td>\n",
       "      <td>17463</td>\n",
       "      <td>51.8625</td>\n",
       "      <td>E46</td>\n",
       "      <td>S</td>\n",
       "    </tr>\n",
       "  </tbody>\n",
       "</table>\n",
       "</div>"
      ],
      "text/plain": [
       "   PassengerId  Survived  Pclass  \\\n",
       "0            1         0       3   \n",
       "1            2         1       1   \n",
       "2            3         1       3   \n",
       "3            4         1       1   \n",
       "4            5         0       3   \n",
       "5            6         0       3   \n",
       "6            7         0       1   \n",
       "\n",
       "                                                Name     Sex   Age  SibSp  \\\n",
       "0                            Braund, Mr. Owen Harris    male  22.0      1   \n",
       "1  Cumings, Mrs. John Bradley (Florence Briggs Th...  female  38.0      1   \n",
       "2                             Heikkinen, Miss. Laina  female  26.0      0   \n",
       "3       Futrelle, Mrs. Jacques Heath (Lily May Peel)  female  35.0      1   \n",
       "4                           Allen, Mr. William Henry    male  35.0      0   \n",
       "5                                   Moran, Mr. James    male   NaN      0   \n",
       "6                            McCarthy, Mr. Timothy J    male  54.0      0   \n",
       "\n",
       "   Parch            Ticket     Fare Cabin Embarked  \n",
       "0      0         A/5 21171   7.2500   NaN        S  \n",
       "1      0          PC 17599  71.2833   C85        C  \n",
       "2      0  STON/O2. 3101282   7.9250   NaN        S  \n",
       "3      0            113803  53.1000  C123        S  \n",
       "4      0            373450   8.0500   NaN        S  \n",
       "5      0            330877   8.4583   NaN        Q  \n",
       "6      0             17463  51.8625   E46        S  "
      ]
     },
     "execution_count": 17,
     "metadata": {},
     "output_type": "execute_result"
    }
   ],
   "source": [
    "train_df.head(7)"
   ]
  },
  {
   "cell_type": "markdown",
   "metadata": {},
   "source": [
    "**Proofing Engineering Title &  Pre-Work**\n",
    "\n",
    "Finding out the spread of Titles across the datasets, I will make some titles that only occur a very small amount of times into more common titles to not pollute the machine learning models with too much finite information."
   ]
  },
  {
   "cell_type": "code",
   "execution_count": 18,
   "metadata": {},
   "outputs": [
    {
     "name": "stdout",
     "output_type": "stream",
     "text": [
      "891\n"
     ]
    },
    {
     "data": {
      "text/plain": [
       "Title\n",
       "Capt          1\n",
       "Col           2\n",
       "Countess      1\n",
       "Don           1\n",
       "Dr            7\n",
       "Jonkheer      1\n",
       "Lady          1\n",
       "Major         2\n",
       "Master       40\n",
       "Miss        182\n",
       "Mlle          2\n",
       "Mme           1\n",
       "Mr          517\n",
       "Mrs         125\n",
       "Ms            1\n",
       "Rev           6\n",
       "Sir           1\n",
       "Name: PassengerId, dtype: int64"
      ]
     },
     "execution_count": 18,
     "metadata": {},
     "output_type": "execute_result"
    }
   ],
   "source": [
    "scrap_train_df = train_df.copy()\n",
    "scrap_train_df['Title'] = scrap_train_df['Name'].str.extract('([A-Za-z]+)\\.', expand=True)\n",
    "print(scrap_train_df.groupby(['Title']).count().iloc[:,0].sum())\n",
    "scrap_train_df.groupby(['Title']).count().iloc[:,0]"
   ]
  },
  {
   "cell_type": "code",
   "execution_count": 19,
   "metadata": {},
   "outputs": [
    {
     "name": "stdout",
     "output_type": "stream",
     "text": [
      "418\n"
     ]
    },
    {
     "data": {
      "text/plain": [
       "Title\n",
       "Col         2\n",
       "Dona        1\n",
       "Dr          1\n",
       "Master     21\n",
       "Miss       78\n",
       "Mr        240\n",
       "Mrs        72\n",
       "Ms          1\n",
       "Rev         2\n",
       "Name: PassengerId, dtype: int64"
      ]
     },
     "execution_count": 19,
     "metadata": {},
     "output_type": "execute_result"
    }
   ],
   "source": [
    "scrap_train_df = test_df.copy()\n",
    "scrap_train_df['Title'] = scrap_train_df['Name'].str.extract('([A-Za-z]+)\\.', expand=True)\n",
    "print(scrap_train_df.groupby(['Title']).count().iloc[:,0].sum())\n",
    "scrap_train_df.groupby(['Title']).count().iloc[:,0]"
   ]
  },
  {
   "cell_type": "markdown",
   "metadata": {},
   "source": [
    "**Family Name Proof** \n",
    "\n",
    "TODO:Is this needed"
   ]
  },
  {
   "cell_type": "code",
   "execution_count": 20,
   "metadata": {},
   "outputs": [
    {
     "data": {
      "text/html": [
       "<div>\n",
       "<style scoped>\n",
       "    .dataframe tbody tr th:only-of-type {\n",
       "        vertical-align: middle;\n",
       "    }\n",
       "\n",
       "    .dataframe tbody tr th {\n",
       "        vertical-align: top;\n",
       "    }\n",
       "\n",
       "    .dataframe thead th {\n",
       "        text-align: right;\n",
       "    }\n",
       "</style>\n",
       "<table border=\"1\" class=\"dataframe\">\n",
       "  <thead>\n",
       "    <tr style=\"text-align: right;\">\n",
       "      <th></th>\n",
       "      <th>FamilyName</th>\n",
       "      <th>Parch</th>\n",
       "      <th>SibSp</th>\n",
       "      <th>PassengerId</th>\n",
       "      <th>Survived</th>\n",
       "      <th>Pclass</th>\n",
       "      <th>Name</th>\n",
       "      <th>Sex</th>\n",
       "      <th>Age</th>\n",
       "      <th>Ticket</th>\n",
       "      <th>Fare</th>\n",
       "      <th>Cabin</th>\n",
       "      <th>Embarked</th>\n",
       "    </tr>\n",
       "  </thead>\n",
       "  <tbody>\n",
       "    <tr>\n",
       "      <th>0</th>\n",
       "      <td>Abbing</td>\n",
       "      <td>0</td>\n",
       "      <td>0</td>\n",
       "      <td>1</td>\n",
       "      <td>1</td>\n",
       "      <td>1</td>\n",
       "      <td>1</td>\n",
       "      <td>1</td>\n",
       "      <td>1</td>\n",
       "      <td>1</td>\n",
       "      <td>1</td>\n",
       "      <td>0</td>\n",
       "      <td>1</td>\n",
       "    </tr>\n",
       "    <tr>\n",
       "      <th>1</th>\n",
       "      <td>Abbott</td>\n",
       "      <td>1</td>\n",
       "      <td>1</td>\n",
       "      <td>2</td>\n",
       "      <td>2</td>\n",
       "      <td>2</td>\n",
       "      <td>2</td>\n",
       "      <td>2</td>\n",
       "      <td>2</td>\n",
       "      <td>2</td>\n",
       "      <td>2</td>\n",
       "      <td>0</td>\n",
       "      <td>2</td>\n",
       "    </tr>\n",
       "    <tr>\n",
       "      <th>2</th>\n",
       "      <td>Abelson</td>\n",
       "      <td>0</td>\n",
       "      <td>1</td>\n",
       "      <td>2</td>\n",
       "      <td>2</td>\n",
       "      <td>2</td>\n",
       "      <td>2</td>\n",
       "      <td>2</td>\n",
       "      <td>2</td>\n",
       "      <td>2</td>\n",
       "      <td>2</td>\n",
       "      <td>0</td>\n",
       "      <td>2</td>\n",
       "    </tr>\n",
       "    <tr>\n",
       "      <th>3</th>\n",
       "      <td>Adahl</td>\n",
       "      <td>0</td>\n",
       "      <td>0</td>\n",
       "      <td>1</td>\n",
       "      <td>1</td>\n",
       "      <td>1</td>\n",
       "      <td>1</td>\n",
       "      <td>1</td>\n",
       "      <td>1</td>\n",
       "      <td>1</td>\n",
       "      <td>1</td>\n",
       "      <td>0</td>\n",
       "      <td>1</td>\n",
       "    </tr>\n",
       "    <tr>\n",
       "      <th>4</th>\n",
       "      <td>Adams</td>\n",
       "      <td>0</td>\n",
       "      <td>0</td>\n",
       "      <td>1</td>\n",
       "      <td>1</td>\n",
       "      <td>1</td>\n",
       "      <td>1</td>\n",
       "      <td>1</td>\n",
       "      <td>1</td>\n",
       "      <td>1</td>\n",
       "      <td>1</td>\n",
       "      <td>0</td>\n",
       "      <td>1</td>\n",
       "    </tr>\n",
       "    <tr>\n",
       "      <th>...</th>\n",
       "      <td>...</td>\n",
       "      <td>...</td>\n",
       "      <td>...</td>\n",
       "      <td>...</td>\n",
       "      <td>...</td>\n",
       "      <td>...</td>\n",
       "      <td>...</td>\n",
       "      <td>...</td>\n",
       "      <td>...</td>\n",
       "      <td>...</td>\n",
       "      <td>...</td>\n",
       "      <td>...</td>\n",
       "      <td>...</td>\n",
       "    </tr>\n",
       "    <tr>\n",
       "      <th>720</th>\n",
       "      <td>de</td>\n",
       "      <td>0</td>\n",
       "      <td>0</td>\n",
       "      <td>2</td>\n",
       "      <td>2</td>\n",
       "      <td>2</td>\n",
       "      <td>2</td>\n",
       "      <td>2</td>\n",
       "      <td>2</td>\n",
       "      <td>2</td>\n",
       "      <td>2</td>\n",
       "      <td>0</td>\n",
       "      <td>2</td>\n",
       "    </tr>\n",
       "    <tr>\n",
       "      <th>721</th>\n",
       "      <td>de</td>\n",
       "      <td>0</td>\n",
       "      <td>1</td>\n",
       "      <td>1</td>\n",
       "      <td>1</td>\n",
       "      <td>1</td>\n",
       "      <td>1</td>\n",
       "      <td>1</td>\n",
       "      <td>1</td>\n",
       "      <td>1</td>\n",
       "      <td>1</td>\n",
       "      <td>0</td>\n",
       "      <td>1</td>\n",
       "    </tr>\n",
       "    <tr>\n",
       "      <th>722</th>\n",
       "      <td>del</td>\n",
       "      <td>0</td>\n",
       "      <td>1</td>\n",
       "      <td>1</td>\n",
       "      <td>1</td>\n",
       "      <td>1</td>\n",
       "      <td>1</td>\n",
       "      <td>1</td>\n",
       "      <td>1</td>\n",
       "      <td>1</td>\n",
       "      <td>1</td>\n",
       "      <td>0</td>\n",
       "      <td>1</td>\n",
       "    </tr>\n",
       "    <tr>\n",
       "      <th>723</th>\n",
       "      <td>van</td>\n",
       "      <td>0</td>\n",
       "      <td>0</td>\n",
       "      <td>1</td>\n",
       "      <td>1</td>\n",
       "      <td>1</td>\n",
       "      <td>1</td>\n",
       "      <td>1</td>\n",
       "      <td>0</td>\n",
       "      <td>1</td>\n",
       "      <td>1</td>\n",
       "      <td>0</td>\n",
       "      <td>1</td>\n",
       "    </tr>\n",
       "    <tr>\n",
       "      <th>724</th>\n",
       "      <td>van</td>\n",
       "      <td>2</td>\n",
       "      <td>0</td>\n",
       "      <td>1</td>\n",
       "      <td>1</td>\n",
       "      <td>1</td>\n",
       "      <td>1</td>\n",
       "      <td>1</td>\n",
       "      <td>1</td>\n",
       "      <td>1</td>\n",
       "      <td>1</td>\n",
       "      <td>0</td>\n",
       "      <td>1</td>\n",
       "    </tr>\n",
       "  </tbody>\n",
       "</table>\n",
       "<p>725 rows × 13 columns</p>\n",
       "</div>"
      ],
      "text/plain": [
       "    FamilyName  Parch  SibSp  PassengerId  Survived  Pclass  Name  Sex  Age  \\\n",
       "0       Abbing      0      0            1         1       1     1    1    1   \n",
       "1       Abbott      1      1            2         2       2     2    2    2   \n",
       "2      Abelson      0      1            2         2       2     2    2    2   \n",
       "3        Adahl      0      0            1         1       1     1    1    1   \n",
       "4        Adams      0      0            1         1       1     1    1    1   \n",
       "..         ...    ...    ...          ...       ...     ...   ...  ...  ...   \n",
       "720         de      0      0            2         2       2     2    2    2   \n",
       "721         de      0      1            1         1       1     1    1    1   \n",
       "722        del      0      1            1         1       1     1    1    1   \n",
       "723        van      0      0            1         1       1     1    1    0   \n",
       "724        van      2      0            1         1       1     1    1    1   \n",
       "\n",
       "     Ticket  Fare  Cabin  Embarked  \n",
       "0         1     1      0         1  \n",
       "1         2     2      0         2  \n",
       "2         2     2      0         2  \n",
       "3         1     1      0         1  \n",
       "4         1     1      0         1  \n",
       "..      ...   ...    ...       ...  \n",
       "720       2     2      0         2  \n",
       "721       1     1      0         1  \n",
       "722       1     1      0         1  \n",
       "723       1     1      0         1  \n",
       "724       1     1      0         1  \n",
       "\n",
       "[725 rows x 13 columns]"
      ]
     },
     "execution_count": 20,
     "metadata": {},
     "output_type": "execute_result"
    }
   ],
   "source": [
    "scrap_train_df = train_df.copy()\n",
    "scrap_train_df['FamilyName'] = scrap_train_df['Name'].str.extract(r'^([\\w\\-]+)', expand=True)\n",
    "scrap_train_df.groupby(['FamilyName', 'Parch', 'SibSp']).count().reset_index()"
   ]
  },
  {
   "cell_type": "markdown",
   "metadata": {},
   "source": [
    "## Feature Engineering Functions"
   ]
  },
  {
   "cell_type": "code",
   "execution_count": 21,
   "metadata": {},
   "outputs": [],
   "source": [
    "# Engineering Title\n",
    "def engineer_title(df):\n",
    "    \"\"\"\n",
    "    Engineering Title from name feature. Takes Titanic Dataframe with NO Missing Name Values. Extracts the Feature Title and Sets Makes some rare titles more common.\n",
    "    \"\"\"\n",
    "    # Create Title\n",
    "    df['Title'] = df['Name'].str.extract('([A-Za-z]+)\\.', expand=True)\n",
    "    \n",
    "    # Map Rare Titles Across\n",
    "    title_map = {'Capt':'Mr', 'Col':'Mr', 'Countess':'Mrs', 'Don':'Mr', 'Jonkheer':'Mrs',\n",
    "                'Lady':'Mrs', 'Major':'Mr', 'Mlle':'Mrs', 'Mme':'Mrs', 'Ms':'Miss', 'Sir':'Mr',\n",
    "                'Dona':'Mrs'}\n",
    "    df.replace({'Title': title_map}, inplace=True)\n",
    "    return df\n",
    "\n",
    "# Engineering Family Members\n",
    "def engineer_family_members(df):\n",
    "    \"\"\"\n",
    "    Takes the titanic dataframe with NO MISSING VALUES and creates a collumn for the number of family members.\n",
    "    \"\"\"\n",
    "    df['FamilyMembers'] = df['Parch'] + df['SibSp'] + 1\n",
    "    return df\n",
    "\n",
    "# Engineer Family Name REDUNDANT\n",
    "def engineer_family_name(df):\n",
    "    \"\"\"\n",
    "    Takes the Titanic dataframe with No Missing Values in the Name Column and produces a column Family Name.\n",
    "    \"\"\"\n",
    "    df['FamilyName'] = scrap_train_df['Name'].str.extract(r'^([\\w\\-]+)', expand=True)\n",
    "    return df\n",
    "\n",
    "def engineer_age_cat(df):\n",
    "    \"\"\"\n",
    "    Takes the titanic dataframe with NO MISSING VALUES and creates a collumn for age category.\n",
    "    \"\"\"\n",
    "    cat = []\n",
    "    for index, row in df.iterrows():\n",
    "        if df.at[index, 'Age'] < 12:\n",
    "            cat.append(\"child \" + str(df.at[index, 'Sex']))\n",
    "        elif (df.at[index, 'Age'] >= 12) & (df.at[index, 'Age'] < 19):\n",
    "            cat.append(\"teenager \" + str(df.at[index, 'Sex']))\n",
    "        else:\n",
    "            cat.append(\"adult \" + str(df.at[index, 'Sex']))\n",
    "    df['AgeCat'] = cat\n",
    "    return df\n"
   ]
  },
  {
   "cell_type": "markdown",
   "metadata": {},
   "source": [
    "# Data Selection & Cleaning Pipeline\n",
    "- Add the the Features Outlined Above.\n",
    "- Feature Selection.\n",
    "- Clean The Data by filling in missing values."
   ]
  },
  {
   "cell_type": "code",
   "execution_count": 22,
   "metadata": {},
   "outputs": [],
   "source": [
    "# Cleaner Function\n",
    "def cleaner(df, cols):\n",
    "    \"\"\"\n",
    "    Takes the both titanic datasets and calls the feature engineering functions, then selects the features [\"Pclass\", \"Sex\", \"Age\", \"SibSp\", \"Parch\", \"Fare\", \"Embarked\",\n",
    "             \"FamilyMembers\", \"Title\", \"Survived\"]. With it then imputes the missing values from the Age, Fare and Embarked Features.\n",
    "    \"\"\"\n",
    "    # Add Features\n",
    "    df = engineer_family_members(df)\n",
    "    df = engineer_title(df)\n",
    "    df = engineer_age_cat(df)\n",
    "    \n",
    "    print(df.columns)\n",
    "    # Clean Embarked\n",
    "    titles = df[\"Title\"].unique()\n",
    "    df['Embarked'].fillna(df['Embarked'].mode()[0], inplace = True)\n",
    "    # Clean Age\n",
    "    # cond & val loop filler\n",
    "    cond = []\n",
    "    val = []\n",
    "    for i in titles:\n",
    "        cond.append(df.Title == i)\n",
    "        val.append(round(df[(df.Title == i)].Age.mean()))\n",
    "    df['Age'] = np.where(df['Age'].isnull(), np.select(cond, val), df['Age'])\n",
    "    \n",
    "    # Clean Fare\n",
    "    from sklearn.impute import SimpleImputer\n",
    "    imp = SimpleImputer(missing_values=np.nan, strategy='mean')\n",
    "    imp = imp.fit(df[['Fare']])\n",
    "    df['Fare'] = imp.transform(df[['Fare']]).ravel()\n",
    "    \n",
    "    # Feature Selection\n",
    "    df = df[cols].copy()\n",
    "    \n",
    "    # Return Data\n",
    "    return df"
   ]
  },
  {
   "cell_type": "markdown",
   "metadata": {},
   "source": [
    "# Data Preperation Pipeline\n",
    "The dataset has multiple variables that need work before being passed into the machine learning models. These variables are:\n",
    "- Pclass - OneHot Encode - Pclass will most likely have an effect on the survival rate, but it needs to be OneHot encoded as the values [1,2,3] are categories without a linear relationship.\n",
    "- Sex - OneHot Encode - This is a categorical text field that cannot be put into a model, so this will become 0 and 1.\n",
    "- Embarked - OneHot Encoded - 3 potential letter values.\n",
    "- Title - OneHot Encoded - Text field needs to be converted\n",
    "\n",
    "**All Variables will then be scaled**"
   ]
  },
  {
   "cell_type": "code",
   "execution_count": 23,
   "metadata": {},
   "outputs": [],
   "source": [
    "def prepare(tr_df, te_df, ohe_idx):\n",
    "    # Join the datasets for a full encoding library can be fitted\n",
    "    full_df = pd.concat([tr_df, te_df])\n",
    "    full_df = full_df.iloc[:, :-1]\n",
    "    # One Hot Encoding the Variables\n",
    "    print(full_df.columns)\n",
    "    from sklearn.compose import ColumnTransformer\n",
    "    from sklearn.preprocessing import OneHotEncoder\n",
    "    ct = ColumnTransformer(transformers=[('encoder', OneHotEncoder(), ohe_idx)]\n",
    "                           , remainder='passthrough')\n",
    "    ct.fit(full_df)\n",
    "    \n",
    "    # Split Data & Transform\n",
    "    X_train = ct.transform(tr_df.iloc[:, :-1])\n",
    "    y_train = tr_df.iloc[:, -1]\n",
    "    X_test = ct.transform(te_df.iloc[:, :-1])\n",
    "    y_test = te_df.iloc[:, -1]\n",
    "    \n",
    "    # Feature Scaling\n",
    "    from sklearn.preprocessing import StandardScaler\n",
    "    sc = StandardScaler()\n",
    "    X_train = sc.fit_transform(X_train)\n",
    "    X_test = sc.transform(X_test)\n",
    "    \n",
    "    # Return Datasets\n",
    "    return X_train, y_train, X_test, y_test, ct"
   ]
  },
  {
   "cell_type": "markdown",
   "metadata": {},
   "source": [
    "# Action Pipeline\n",
    "Action the pre-preperation pipeline to get the X/y Test/Train split that can be put into the machine learning models."
   ]
  },
  {
   "cell_type": "code",
   "execution_count": 24,
   "metadata": {},
   "outputs": [],
   "source": [
    "#train_df[cols_clean]"
   ]
  },
  {
   "cell_type": "code",
   "execution_count": 25,
   "metadata": {},
   "outputs": [
    {
     "name": "stdout",
     "output_type": "stream",
     "text": [
      "Index(['PassengerId', 'Survived', 'Pclass', 'Name', 'Sex', 'Age', 'SibSp',\n",
      "       'Parch', 'Ticket', 'Fare', 'Cabin', 'Embarked', 'FamilyMembers',\n",
      "       'Title', 'AgeCat'],\n",
      "      dtype='object')\n",
      "Index(['PassengerId', 'Survived', 'Pclass', 'Name', 'Sex', 'Age', 'SibSp',\n",
      "       'Parch', 'Ticket', 'Fare', 'Cabin', 'Embarked', 'FamilyMembers',\n",
      "       'Title', 'AgeCat'],\n",
      "      dtype='object')\n",
      "Index(['Pclass', 'Sex', 'Age', 'SibSp', 'Parch', 'Fare', 'Embarked',\n",
      "       'FamilyMembers', 'Title', 'AgeCat'],\n",
      "      dtype='object')\n"
     ]
    }
   ],
   "source": [
    "# Action Pipeline\n",
    "# Cols that are wanted to go through the fucntion\n",
    "cols_clean = [\"Pclass\", \"Sex\", \"Age\", \"SibSp\", \"Parch\", \"Fare\", \"Embarked\",\n",
    "             \"FamilyMembers\", \"Title\", \"AgeCat\", \"Survived\"]\n",
    "train_df_cl = cleaner(train_df, cols_clean)\n",
    "test_df_cl = cleaner(test_df, cols_clean)\n",
    "X_train, y_train, X_test, y_test, ct = prepare(train_df_cl, test_df_cl, [0, 1, 6, 8, 9])"
   ]
  },
  {
   "cell_type": "markdown",
   "metadata": {},
   "source": [
    "# Machine Learning Model Functions"
   ]
  },
  {
   "cell_type": "code",
   "execution_count": 26,
   "metadata": {},
   "outputs": [],
   "source": [
    "from sklearn.metrics import confusion_matrix, accuracy_score\n",
    "\n",
    "def RFI_classifier(X_train, y_train, X_test, y_test):\n",
    "    \"\"\"\n",
    "    Takes X_train, X_test, y_train, y_test and returns Random Forest Classifier, Confusion Matrix and Accuracy Score.\n",
    "    \"\"\"\n",
    "    # Training the Random Forest Classification model on the Training set\n",
    "    from sklearn.ensemble import RandomForestClassifier\n",
    "    #classifier = RandomForestClassifier(n_estimators = 100, criterion = 'entropy')\n",
    "    \n",
    "    from sklearn.model_selection import GridSearchCV\n",
    "    parameters = [{\"n_estimators\":[80, 100, 1000], 'criterion':[\"gini\", \"entropy\"]}]\n",
    "    classifier = GridSearchCV(RandomForestClassifier(), parameters, cv=5)\n",
    "    \n",
    "    classifier.fit(X_train, y_train)\n",
    "    # Predicting the Test set results\n",
    "    y_pred = classifier.predict(X_test)\n",
    "    # Confusion Matrix\n",
    "    cm = confusion_matrix(y_test, y_pred)\n",
    "    # Accuracy Score\n",
    "    ac = accuracy_score(y_test, y_pred)\n",
    "    return(classifier, cm, ac)\n",
    "\n",
    "def LR_classifier(X_train, y_train, X_test, y_test):\n",
    "    \"\"\"\n",
    "    Takes X_train, X_test, y_train, y_test and returns Logistic Regression Classifier, Confusion Matrix and Accuracy Score.\n",
    "    \"\"\"\n",
    "    from sklearn.linear_model import LogisticRegression\n",
    "    #classifier = LogisticRegression(solver='lbfgs')\n",
    "    \n",
    "    from sklearn.model_selection import GridSearchCV\n",
    "    parameters = [{\"penalty\":[\"l1\",\"l2\"], 'solver':['lbfgs', 'liblinear', 'saga'], 'max_iter':[1000]}]\n",
    "    classifier = GridSearchCV(LogisticRegression(), parameters, cv=5)\n",
    "    \n",
    "    classifier.fit(X_train, y_train)\n",
    "    # Predict Test Set\n",
    "    y_pred = classifier.predict(X_test)\n",
    "    # Confusion Matrix\n",
    "    cm = confusion_matrix(y_test, y_pred)\n",
    "    # Accuracy Score\n",
    "    ac = accuracy_score(y_test, y_pred)\n",
    "    return(classifier, cm, ac)\n",
    "\n",
    "def XGB_classifier(X_train, y_train, X_test, y_test):\n",
    "    \"\"\"\n",
    "    Takes X_train, X_test, y_train, y_test and returnsXGBoost Classifier, Confusion Matrix and Accuracy Score.\n",
    "    \"\"\"\n",
    "    from xgboost import XGBClassifier\n",
    "    #classifier = XGBClassifier(use_label_encoder=False, objective = 'binary:logistic')\n",
    "    \n",
    "    from sklearn.model_selection import GridSearchCV\n",
    "    parameters = [{'objective':['binary:logistic'],\n",
    "              'learning_rate': [0.01, 0.05, 0.1], #so called `eta` value\n",
    "              'max_depth': [3 ,6, 12],\n",
    "              'min_child_weight': [5, 10, 15],\n",
    "              'colsample_bytree': [0.5, 0.7],\n",
    "              'n_estimators': [5, 10, 50, 100],\n",
    "                'verbosity': [0]}] \n",
    "              \n",
    "    classifier = GridSearchCV(XGBClassifier(), parameters, cv=5)\n",
    "    \n",
    "    classifier.fit(X_train, y_train)\n",
    "    # Predict Test Set\n",
    "    y_pred = classifier.predict(X_test)\n",
    "    # Confusion Matrix\n",
    "    cm = confusion_matrix(y_test, y_pred)\n",
    "    # Accuracy Score\n",
    "    ac = accuracy_score(y_test, y_pred)\n",
    "    return(classifier, cm, ac)\n",
    "\n",
    "def PER_classifier(X_train, y_train, X_test, y_test):\n",
    "    \"\"\"\n",
    "    Takes X_train, X_test, y_train, y_test and returns Perceptron Classifier, Confusion Matrix and Accuracy Score.\n",
    "    \"\"\"\n",
    "    from sklearn.linear_model import Perceptron\n",
    "    classifier = Perceptron(max_iter = 100)\n",
    "    classifier.fit(X_train, y_train)\n",
    "    # Predict Test Set\n",
    "    y_pred = classifier.predict(X_test)\n",
    "    # Confusion Matrix\n",
    "    cm = confusion_matrix(y_test, y_pred)\n",
    "    # Accuracy Score\n",
    "    ac = accuracy_score(y_test, y_pred)\n",
    "    return(classifier, cm, ac)\n",
    "\n",
    "def NN_classifier(X_train, y_train, X_test, y_test):\n",
    "    \"\"\"\n",
    "    Takes X_train, X_test, y_train, y_test and returns NN History Object and Model Object\n",
    "    \"\"\"\n",
    "    # Setup Keras and import the dataset\n",
    "    from keras.models import Sequential\n",
    "    from keras.layers import Dense\n",
    "    from keras.datasets import mnist\n",
    "    from keras.utils import np_utils\n",
    "    \n",
    "    # Build Model, input shape the number of features used\n",
    "    model = Sequential()\n",
    "    model.add(Dense(input_shape=(X_train.shape[1],), activation='relu', units=7))\n",
    "    model.add(Dense(activation='relu', units=64))\n",
    "    model.add(Dense(activation='relu', units=64))\n",
    "    model.add(Dense(activation='relu', units=64))\n",
    "    model.add(Dense(activation='sigmoid', units=1))\n",
    "    model.compile(optimizer='adam', loss='binary_crossentropy', metrics=['accuracy'])\n",
    "    \n",
    "    history = model.fit(X_train, y_train, epochs=120, \n",
    "                    validation_split = 0.2,\n",
    "                    batch_size=64, verbose=0)\n",
    "    evaluation = model.evaluate(X_test, y_test, verbose=0)\n",
    "    ac = evaluation[1]\n",
    "    \n",
    "    # Confusion Matrix\n",
    "    cm = confusion_matrix(y_test, (model.predict(X_test) > 0.5).astype(\"int32\"))\n",
    "    \n",
    "    return(history, model, cm, ac)\n",
    "\n",
    "def KNN_classifier(X_train, y_train, X_test, y_test):\n",
    "    \"\"\"\n",
    "    Takes X_train, X_test, y_train, y_test and returns K-Nearnes Neighbour Classifier, Confusion Matrix and Accuracy Score.\n",
    "    \"\"\"\n",
    "    from sklearn.neighbors import KNeighborsClassifier\n",
    "    #classifier = KNeighborsClassifier(n_neighbors = 5, metric = 'minkowski', p = 2)\n",
    "    \n",
    "    from sklearn.model_selection import GridSearchCV\n",
    "    parameters = [{'n_neighbors': [2, 5, 10, 20, 40, 80],\n",
    "                'algorithm': [\"auto\", \"ball_tree\", \"kd_tree\", \"brute\"]}]\n",
    "    classifier = GridSearchCV(KNeighborsClassifier(), parameters, cv=5)\n",
    "    \n",
    "    classifier.fit(X_train, y_train)\n",
    "    # Predict Test Set\n",
    "    y_pred = classifier.predict(X_test)\n",
    "    # Confusion Matrix\n",
    "    cm = confusion_matrix(y_test, y_pred)\n",
    "    # Accuracy Score\n",
    "    ac = accuracy_score(y_test, y_pred)\n",
    "    return(classifier, cm, ac)\n",
    "\n",
    "def SVM_classifier(X_train, y_train, X_test, y_test):\n",
    "    \"\"\"\n",
    "    Takes X_train, X_test, y_train, y_test and returns Support Vector Machine Classifier, Confusion Matrix and Accuracy Score.\n",
    "    \"\"\"\n",
    "    from sklearn.svm import SVC\n",
    "    #classifier = SVC(kernel = 'linear')\n",
    "    \n",
    "    from sklearn.model_selection import GridSearchCV\n",
    "    parameters = [{'kernel': ['rbf', 'linear'],\n",
    "                'C': [1,2,5],'cache_size':[7000] }]\n",
    "    classifier = GridSearchCV(SVC(), parameters, cv=5)\n",
    "    \n",
    "    classifier.fit(X_train, y_train)\n",
    "    # Predict Test Set\n",
    "    y_pred = classifier.predict(X_test)\n",
    "    # Confusion Matrix\n",
    "    cm = confusion_matrix(y_test, y_pred)\n",
    "    # Accuracy Score\n",
    "    ac = accuracy_score(y_test, y_pred)\n",
    "    return(classifier, cm, ac)\n",
    "\n",
    "def KME_classifier(X_train, y_train, X_test, y_test):\n",
    "    \"\"\"\n",
    "    Takes X_train, X_test, y_train, y_test and returns K-Means Classifier, Confusion Matrix and Accuracy Score.\n",
    "    \"\"\"\n",
    "    # Training the K-Means model on the dataset\n",
    "    from sklearn.cluster import KMeans\n",
    "    classifier = KMeans(n_clusters = 2, init = 'k-means++')\n",
    "    classifier.fit(X_train)\n",
    "    # Predict Test Set\n",
    "    y_pred = classifier.predict(X_test)\n",
    "    # Confusion Matrix\n",
    "    cm = confusion_matrix(y_test, y_pred)\n",
    "    # Accuracy Score\n",
    "    ac = accuracy_score(y_test, y_pred)\n",
    "    return(classifier, cm, ac)\n",
    "\n",
    "def HCL_classifier(X_train, y_train, X_test, y_test):\n",
    "    \"\"\"\n",
    "    Takes X_train, X_test, y_train, y_test and returns Hierachical Cluster Classifier, Confusion Matrix and Accuracy Score.\n",
    "    \"\"\"\n",
    "    # Training the Hierarchical Clustering model on the dataset\n",
    "    from sklearn.cluster import AgglomerativeClustering\n",
    "    classifier = AgglomerativeClustering(n_clusters = 2, affinity = 'euclidean', linkage = 'ward')    \n",
    "    # Predict Clusters on Training Set\n",
    "    y_pred = classifier.fit_predict(X_train)\n",
    "    # Confusion Matrix\n",
    "    cm = confusion_matrix(y_train, y_pred)\n",
    "    # Accuracy Score\n",
    "    ac = accuracy_score(y_train, y_pred)\n",
    "    return(classifier, cm, ac)\n",
    "    "
   ]
  },
  {
   "cell_type": "markdown",
   "metadata": {},
   "source": [
    "# Model Evaluation Functions"
   ]
  },
  {
   "cell_type": "code",
   "execution_count": 27,
   "metadata": {},
   "outputs": [],
   "source": [
    "# Calculate ROC & AUC Function\n",
    "def Calc_ROC_AUC(classifiers, classifiers_names, y_test, X_test):\n",
    "    \"\"\"\n",
    "    Produces a ROC Plot with AUC scores. Takes Classifiers (classiifer objects), Classifier_names( List of \n",
    "    Classifier names in the same order as classifier objects), y_test and X_test.\n",
    "    \"\"\"\n",
    "    \n",
    "    from sklearn.metrics import roc_curve, roc_auc_score\n",
    "    rocs = []\n",
    "    aucs = []\n",
    "    for i, j in zip(classifiers, classifiers_names):\n",
    "        # get probabilties of each of each classifier\n",
    "        prob = i.predict_proba(X_test)\n",
    "        prob = prob[:, 1]\n",
    "        # ROC is the receiver operating characteristic AUROC is the area under the ROC curve\n",
    "        auc = roc_auc_score(y_test, prob)\n",
    "        # Calculate Roc Curve\n",
    "        fpr, tpr, _ = roc_curve(y_test, prob)\n",
    "        \n",
    "        # Plot\n",
    "        plt.plot(fpr, tpr, marker='.', label= j + ': AUROC = %.3f'  % auc)\n",
    "    \n",
    "    # Random selection\n",
    "    r_probs = [0 for _ in range(len(y_test))]\n",
    "    r_auc = roc_auc_score(y_test, r_probs)\n",
    "    r_fpr, r_tpr, _ = roc_curve(y_test, r_probs)\n",
    "    plt.plot(r_fpr, r_tpr, linestyle='--', label='Random prediction: AUROC = %0.3f' % r_auc)\n",
    "    \n",
    "    # Title\n",
    "    plt.title('ROC Plot')\n",
    "    # Axis labels\n",
    "    plt.xlabel('False Positive Rate')\n",
    "    plt.ylabel('True Positive Rate')\n",
    "    # Show legend\n",
    "    plt.legend() \n",
    "    # Show plot\n",
    "    plt.show()\n",
    "    \n",
    "# Other\n",
    "def Calc_Metrics(conf_matrixs, classifiers):\n",
    "    acc = []\n",
    "    misclass = []\n",
    "    sensitivity = []\n",
    "    specificity = []\n",
    "    precision = []\n",
    "    f1 = []\n",
    "    \n",
    "    for i, j in zip(conf_matrixs, classifiers_names): \n",
    "        TP = i[1][1]\n",
    "        TN = i[0][0]\n",
    "        FP = i[0][1]\n",
    "        FN = i[1][0]\n",
    "\n",
    "        # calculate accuracy\n",
    "        conf_accuracy = (float (TP+TN) / float(TP + TN + FP + FN))\n",
    "\n",
    "        # calculate mis-classification\n",
    "        conf_misclassification = 1- conf_accuracy\n",
    "\n",
    "        # calculate the sensitivity\n",
    "        conf_sensitivity = (TP / float(TP + FN))\n",
    "        # calculate the specificity\n",
    "        conf_specificity = (TN / float(TN + FP))\n",
    "\n",
    "        # calculate precision\n",
    "        conf_precision = (TN / float(TN + FP))\n",
    "        # calculate f_1 score\n",
    "        conf_f1 = 2 * ((conf_precision * conf_sensitivity) / (conf_precision + conf_sensitivity))\n",
    "        \n",
    "        acc.append(conf_accuracy)\n",
    "        misclass.append(conf_misclassification)\n",
    "        sensitivity.append(conf_sensitivity)\n",
    "        specificity.append(conf_specificity)\n",
    "        precision.append(conf_precision)\n",
    "        f1.append(conf_f1)\n",
    "    \n",
    "    df = pd.DataFrame({'Model': classifiers_names, 'Accuracy': acc, 'Miss-Class': misclass, 'Sensitivity':sensitivity,\n",
    "                      'Specificity': specificity, 'Precision':precision, 'F1': f1})\n",
    "    return df\n",
    "    \n",
    "    "
   ]
  },
  {
   "cell_type": "markdown",
   "metadata": {},
   "source": [
    "# Actioning Machine Learning Model Fucntions"
   ]
  },
  {
   "cell_type": "code",
   "execution_count": 28,
   "metadata": {
    "scrolled": true
   },
   "outputs": [
    {
     "name": "stdout",
     "output_type": "stream",
     "text": [
      "1\n"
     ]
    },
    {
     "name": "stderr",
     "output_type": "stream",
     "text": [
      "F:\\Programs\\Anaconda\\lib\\site-packages\\sklearn\\model_selection\\_validation.py:552: FitFailedWarning: Estimator fit failed. The score on this train-test partition for these parameters will be set to nan. Details: \n",
      "Traceback (most recent call last):\n",
      "  File \"F:\\Programs\\Anaconda\\lib\\site-packages\\sklearn\\model_selection\\_validation.py\", line 531, in _fit_and_score\n",
      "    estimator.fit(X_train, y_train, **fit_params)\n",
      "  File \"F:\\Programs\\Anaconda\\lib\\site-packages\\sklearn\\linear_model\\_logistic.py\", line 1304, in fit\n",
      "    solver = _check_solver(self.solver, self.penalty, self.dual)\n",
      "  File \"F:\\Programs\\Anaconda\\lib\\site-packages\\sklearn\\linear_model\\_logistic.py\", line 443, in _check_solver\n",
      "    \"got %s penalty.\" % (solver, penalty))\n",
      "ValueError: Solver lbfgs supports only 'l2' or 'none' penalties, got l1 penalty.\n",
      "\n",
      "  FitFailedWarning)\n",
      "F:\\Programs\\Anaconda\\lib\\site-packages\\sklearn\\linear_model\\_sag.py:330: ConvergenceWarning: The max_iter was reached which means the coef_ did not converge\n",
      "  \"the coef_ did not converge\", ConvergenceWarning)\n"
     ]
    },
    {
     "name": "stdout",
     "output_type": "stream",
     "text": [
      "2\n",
      "3\n",
      "4\n",
      "5\n",
      "6\n",
      "7\n",
      "8\n",
      "9\n"
     ]
    }
   ],
   "source": [
    "rfi_classifier, rfi_cm, rfi_ac = RFI_classifier(X_train, y_train, X_test, y_test)\n",
    "print(1)\n",
    "lr_classifier, lr_cm, lr_ac = LR_classifier(X_train, y_train, X_test, y_test)\n",
    "print(2)\n",
    "xgb_classifier, xgb_cm, xgb_ac = XGB_classifier(X_train, y_train, X_test, y_test)\n",
    "print(3)\n",
    "per_classifier, per_cm, per_ac = PER_classifier(X_train, y_train, X_test, y_test)\n",
    "print(4)\n",
    "nn_history, nn_model, nn_cm, nn_ac = NN_classifier(X_train, y_train, X_test, y_test)\n",
    "print(5)\n",
    "kme_classifier, kme_cm, kme_ac = KME_classifier(X_train, y_train, X_test, y_test)\n",
    "print(6)\n",
    "svm_classifier, svm_cm, svm_ac = SVM_classifier(X_train, y_train, X_test, y_test)\n",
    "print(7)\n",
    "hcl_classifier, hcl_cm, hcl_ac = HCL_classifier(X_train, y_train, X_test, y_test)\n",
    "print(8)\n",
    "knn_classifier, knn_cm, knn_ac = KNN_classifier(X_train, y_train, X_test, y_test)\n",
    "print(9)"
   ]
  },
  {
   "cell_type": "markdown",
   "metadata": {},
   "source": [
    "# Evaluating Models\n",
    "Preformances were all very similar apart from on the unsupervised cluster models, I included the cluster models to show if they could get define 2 clusters from the featureset provided.\n",
    "\n",
    "## Metrics"
   ]
  },
  {
   "cell_type": "code",
   "execution_count": 29,
   "metadata": {},
   "outputs": [
    {
     "data": {
      "text/html": [
       "<div>\n",
       "<style scoped>\n",
       "    .dataframe tbody tr th:only-of-type {\n",
       "        vertical-align: middle;\n",
       "    }\n",
       "\n",
       "    .dataframe tbody tr th {\n",
       "        vertical-align: top;\n",
       "    }\n",
       "\n",
       "    .dataframe thead th {\n",
       "        text-align: right;\n",
       "    }\n",
       "</style>\n",
       "<table border=\"1\" class=\"dataframe\">\n",
       "  <thead>\n",
       "    <tr style=\"text-align: right;\">\n",
       "      <th></th>\n",
       "      <th>Model</th>\n",
       "      <th>Accuracy</th>\n",
       "      <th>Miss-Class</th>\n",
       "      <th>Sensitivity</th>\n",
       "      <th>Specificity</th>\n",
       "      <th>Precision</th>\n",
       "      <th>F1</th>\n",
       "    </tr>\n",
       "  </thead>\n",
       "  <tbody>\n",
       "    <tr>\n",
       "      <th>0</th>\n",
       "      <td>Random Forest</td>\n",
       "      <td>0.732057</td>\n",
       "      <td>0.267943</td>\n",
       "      <td>0.677215</td>\n",
       "      <td>0.765385</td>\n",
       "      <td>0.765385</td>\n",
       "      <td>0.718606</td>\n",
       "    </tr>\n",
       "    <tr>\n",
       "      <th>1</th>\n",
       "      <td>Logistic Regression</td>\n",
       "      <td>0.772727</td>\n",
       "      <td>0.227273</td>\n",
       "      <td>0.727848</td>\n",
       "      <td>0.800000</td>\n",
       "      <td>0.800000</td>\n",
       "      <td>0.762220</td>\n",
       "    </tr>\n",
       "    <tr>\n",
       "      <th>2</th>\n",
       "      <td>XGBoost</td>\n",
       "      <td>0.779904</td>\n",
       "      <td>0.220096</td>\n",
       "      <td>0.677215</td>\n",
       "      <td>0.842308</td>\n",
       "      <td>0.842308</td>\n",
       "      <td>0.750793</td>\n",
       "    </tr>\n",
       "    <tr>\n",
       "      <th>3</th>\n",
       "      <td>Perceptron</td>\n",
       "      <td>0.705742</td>\n",
       "      <td>0.294258</td>\n",
       "      <td>0.765823</td>\n",
       "      <td>0.669231</td>\n",
       "      <td>0.669231</td>\n",
       "      <td>0.714276</td>\n",
       "    </tr>\n",
       "    <tr>\n",
       "      <th>4</th>\n",
       "      <td>Neural Network</td>\n",
       "      <td>0.739234</td>\n",
       "      <td>0.260766</td>\n",
       "      <td>0.575949</td>\n",
       "      <td>0.838462</td>\n",
       "      <td>0.838462</td>\n",
       "      <td>0.682845</td>\n",
       "    </tr>\n",
       "    <tr>\n",
       "      <th>5</th>\n",
       "      <td>KNN</td>\n",
       "      <td>0.779904</td>\n",
       "      <td>0.220096</td>\n",
       "      <td>0.626582</td>\n",
       "      <td>0.873077</td>\n",
       "      <td>0.873077</td>\n",
       "      <td>0.729572</td>\n",
       "    </tr>\n",
       "    <tr>\n",
       "      <th>6</th>\n",
       "      <td>SVM</td>\n",
       "      <td>0.787081</td>\n",
       "      <td>0.212919</td>\n",
       "      <td>0.677215</td>\n",
       "      <td>0.853846</td>\n",
       "      <td>0.853846</td>\n",
       "      <td>0.755342</td>\n",
       "    </tr>\n",
       "    <tr>\n",
       "      <th>7</th>\n",
       "      <td>K-Means</td>\n",
       "      <td>0.758373</td>\n",
       "      <td>0.241627</td>\n",
       "      <td>0.715190</td>\n",
       "      <td>0.784615</td>\n",
       "      <td>0.784615</td>\n",
       "      <td>0.748296</td>\n",
       "    </tr>\n",
       "    <tr>\n",
       "      <th>8</th>\n",
       "      <td>Hierachical Clustering</td>\n",
       "      <td>0.218855</td>\n",
       "      <td>0.781145</td>\n",
       "      <td>0.269006</td>\n",
       "      <td>0.187614</td>\n",
       "      <td>0.187614</td>\n",
       "      <td>0.221056</td>\n",
       "    </tr>\n",
       "  </tbody>\n",
       "</table>\n",
       "</div>"
      ],
      "text/plain": [
       "                    Model  Accuracy  Miss-Class  Sensitivity  Specificity  \\\n",
       "0           Random Forest  0.732057    0.267943     0.677215     0.765385   \n",
       "1     Logistic Regression  0.772727    0.227273     0.727848     0.800000   \n",
       "2                 XGBoost  0.779904    0.220096     0.677215     0.842308   \n",
       "3              Perceptron  0.705742    0.294258     0.765823     0.669231   \n",
       "4          Neural Network  0.739234    0.260766     0.575949     0.838462   \n",
       "5                     KNN  0.779904    0.220096     0.626582     0.873077   \n",
       "6                     SVM  0.787081    0.212919     0.677215     0.853846   \n",
       "7                 K-Means  0.758373    0.241627     0.715190     0.784615   \n",
       "8  Hierachical Clustering  0.218855    0.781145     0.269006     0.187614   \n",
       "\n",
       "   Precision        F1  \n",
       "0   0.765385  0.718606  \n",
       "1   0.800000  0.762220  \n",
       "2   0.842308  0.750793  \n",
       "3   0.669231  0.714276  \n",
       "4   0.838462  0.682845  \n",
       "5   0.873077  0.729572  \n",
       "6   0.853846  0.755342  \n",
       "7   0.784615  0.748296  \n",
       "8   0.187614  0.221056  "
      ]
     },
     "execution_count": 29,
     "metadata": {},
     "output_type": "execute_result"
    }
   ],
   "source": [
    "classifiers_names = [\"Random Forest\", \"Logistic Regression\", \"XGBoost\", \"Perceptron\",\n",
    "                     \"Neural Network\", \"KNN\", \"SVM\", \"K-Means\", \"Hierachical Clustering\"]\n",
    "confs = [rfi_cm, lr_cm, xgb_cm, per_cm, nn_cm, knn_cm, svm_cm, kme_cm, hcl_cm]\n",
    "ac_results = Calc_Metrics(confs, classifiers_names)\n",
    "ac_results"
   ]
  },
  {
   "cell_type": "code",
   "execution_count": 30,
   "metadata": {},
   "outputs": [
    {
     "name": "stdout",
     "output_type": "stream",
     "text": [
      "Random Forest: {'criterion': 'entropy', 'n_estimators': 80}\n",
      "Logistic regression: {'max_iter': 1000, 'penalty': 'l1', 'solver': 'liblinear'}\n",
      "XGBoost: {'colsample_bytree': 0.5, 'learning_rate': 0.1, 'max_depth': 12, 'min_child_weight': 5, 'n_estimators': 100, 'objective': 'binary:logistic', 'verbosity': 0}\n",
      "KNN: {'algorithm': 'ball_tree', 'n_neighbors': 10}\n"
     ]
    }
   ],
   "source": [
    "print(\"Random Forest: \" + str(rfi_classifier.best_params_))\n",
    "print(\"Logistic regression: \" + str(lr_classifier.best_params_))\n",
    "print(\"XGBoost: \" + str(xgb_classifier.best_params_))\n",
    "print(\"KNN: \" + str(knn_classifier.best_params_))"
   ]
  },
  {
   "cell_type": "markdown",
   "metadata": {},
   "source": [
    "## Feature Importance\n",
    "The random forest model allows for the extraction of feature importance, this will allow me to get a subset of features that have a low chance of polluting the model."
   ]
  },
  {
   "cell_type": "code",
   "execution_count": 31,
   "metadata": {},
   "outputs": [
    {
     "data": {
      "text/plain": [
       "<seaborn.axisgrid.FacetGrid at 0x179949a0a48>"
      ]
     },
     "execution_count": 31,
     "metadata": {},
     "output_type": "execute_result"
    },
    {
     "data": {
      "image/png": "[encoded data removed]",
      "text/plain": [
       "<Figure size 1080x720 with 1 Axes>"
      ]
     },
     "metadata": {
      "needs_background": "light"
     },
     "output_type": "display_data"
    }
   ],
   "source": [
    "\n",
    "fi_df = pd.DataFrame({'Feature':ct.get_feature_names(), 'Importances': rfi_classifier.best_estimator_.feature_importances_})\n",
    "fi_df.sort_values(by=['Importances'], ascending=True, inplace=True)\n",
    "sns.catplot(y = 'Feature', x = 'Importances', aspect = 1.5, \n",
    "            kind = 'bar', orient = 'h', height = 10, data = fi_df)"
   ]
  },
  {
   "cell_type": "markdown",
   "metadata": {},
   "source": [
    "## Cluster Analysis\n",
    "Looking for the a clear kink in the curve to indicate that the features plugged in have 2 clear clusters that can be assumed to be Survived or Not Survived."
   ]
  },
  {
   "cell_type": "code",
   "execution_count": 32,
   "metadata": {},
   "outputs": [
    {
     "data": {
      "image/png": "[encoded data removed]",
      "text/plain": [
       "<Figure size 864x576 with 1 Axes>"
      ]
     },
     "metadata": {
      "needs_background": "light"
     },
     "output_type": "display_data"
    }
   ],
   "source": [
    "plt.figure(figsize=[12,8])\n",
    "from sklearn.cluster import KMeans\n",
    "wcss = []\n",
    "for i in range(1, 11):\n",
    "    kmeans = KMeans(n_clusters = i, init = 'k-means++')\n",
    "    kmeans.fit(train_df_cl[['Age', 'Fare']])\n",
    "    wcss.append(kmeans.inertia_)\n",
    "plt.plot(range(1, 11), wcss)\n",
    "plt.title('The Elbow Method')\n",
    "plt.xlabel('Number of clusters')\n",
    "plt.ylabel('WCSS')\n",
    "plt.show()"
   ]
  },
  {
   "cell_type": "markdown",
   "metadata": {},
   "source": [
    "## Neural Network Tuning\n"
   ]
  },
  {
   "cell_type": "code",
   "execution_count": 33,
   "metadata": {},
   "outputs": [
    {
     "data": {
      "text/plain": [
       "<matplotlib.legend.Legend at 0x179950eec08>"
      ]
     },
     "execution_count": 33,
     "metadata": {},
     "output_type": "execute_result"
    },
    {
     "data": {
      "image/png": "[encoded data removed]",
      "text/plain": [
       "<Figure size 864x576 with 1 Axes>"
      ]
     },
     "metadata": {
      "needs_background": "light"
     },
     "output_type": "display_data"
    }
   ],
   "source": [
    "plt.figure(figsize=[12,8])\n",
    "plt.plot(nn_history.history['accuracy'])\n",
    "plt.plot(nn_history.history['val_accuracy'])\n",
    "plt.title('Model Accuracy Whilst Training')\n",
    "plt.ylabel('accuracy')\n",
    "plt.xlabel('epoch')\n",
    "plt.legend(['train', 'validation'], loc='lower right')"
   ]
  },
  {
   "cell_type": "markdown",
   "metadata": {},
   "source": [
    "## Random Forest Permutation Importance"
   ]
  },
  {
   "cell_type": "code",
   "execution_count": 34,
   "metadata": {},
   "outputs": [
    {
     "data": {
      "image/png": "[encoded data removed]",
      "text/plain": [
       "<Figure size 864x576 with 1 Axes>"
      ]
     },
     "metadata": {
      "needs_background": "light"
     },
     "output_type": "display_data"
    }
   ],
   "source": [
    "from sklearn.inspection import permutation_importance\n",
    "result = permutation_importance(rfi_classifier.best_estimator_, X_test, y_test, n_jobs = 2, n_repeats = 10)\n",
    "pi_features = pd.DataFrame()\n",
    "pi_features['feature'] = ct.get_feature_names()\n",
    "pi_features['importance'] = result.importances_mean\n",
    "pi_features.sort_values(by=['importance'], ascending=True, inplace=True)\n",
    "\n",
    "#sns.catplot(y = 'feature', x = 'importance', aspect = 1.5, kind = 'bar', orient = 'h',\n",
    "#            height = 10, data = pi_features)\n",
    "sorted_idx = result.importances_mean.argsort()\n",
    "plt.figure(figsize=[12,8])\n",
    "x_tr_df = pd.DataFrame(data = X_train, columns = ct.get_feature_names())\n",
    "plt.boxplot(result.importances[sorted_idx].T,\n",
    "           vert=False, labels=x_tr_df.columns[sorted_idx])\n",
    "plt.title(\"Permutation Importances (test set)\")\n",
    "\n",
    "plt.show()"
   ]
  },
  {
   "cell_type": "code",
   "execution_count": 35,
   "metadata": {},
   "outputs": [
    {
     "data": {
      "text/plain": [
       "array([-0.56568542, -0.51015154,  0.90258736,  1.35557354, -1.35557354,\n",
       "       -0.48204268, -0.30756234,  0.61583843, -0.08898625, -0.21680296,\n",
       "       -0.50840395, -1.19490289,  2.40863586, -0.0823387 ,  1.61924403,\n",
       "       -1.14642301, -0.19300938, -0.20519567, -0.20519567, -0.20220744,\n",
       "        1.29127239,  0.43279337, -0.47367361, -0.50747884,  0.05915988])"
      ]
     },
     "execution_count": 35,
     "metadata": {},
     "output_type": "execute_result"
    }
   ],
   "source": [
    "X_test[1]"
   ]
  },
  {
   "cell_type": "markdown",
   "metadata": {},
   "source": [
    "# New Subset of Features\n",
    "Will retain ['Fare', 'Age', 'Sex', 'FamilyMembers' 'Pclass'], some features like Title and SibSp were benifical to the model but are redundant information as they exist in other features such as Gender and Family Members."
   ]
  },
  {
   "cell_type": "code",
   "execution_count": 36,
   "metadata": {},
   "outputs": [
    {
     "name": "stdout",
     "output_type": "stream",
     "text": [
      "Index(['PassengerId', 'Survived', 'Pclass', 'Name', 'Sex', 'Age', 'SibSp',\n",
      "       'Parch', 'Ticket', 'Fare', 'Cabin', 'Embarked', 'FamilyMembers',\n",
      "       'Title', 'AgeCat'],\n",
      "      dtype='object')\n",
      "Index(['PassengerId', 'Survived', 'Pclass', 'Name', 'Sex', 'Age', 'SibSp',\n",
      "       'Parch', 'Ticket', 'Fare', 'Cabin', 'Embarked', 'FamilyMembers',\n",
      "       'Title', 'AgeCat'],\n",
      "      dtype='object')\n",
      "Index(['Pclass', 'Sex', 'Age', 'Fare', 'FamilyMembers', 'SibSp', 'Parch'], dtype='object')\n"
     ]
    }
   ],
   "source": [
    "# Action Pipeline\n",
    "# Cols that are wanted to go through the fucntion\n",
    "cols_clean = [\"Pclass\", \"Sex\", \"Age\", \"Fare\", \"FamilyMembers\", \"SibSp\", \"Parch\", \"Survived\"]\n",
    "#cols_clean = [\"Sex\", \"Age\", \"Fare\", \"Survived\"]\n",
    "train_df_cl = cleaner(train_df, cols_clean)\n",
    "test_df_cl = cleaner(test_df, cols_clean)\n",
    "train_df_cl\n",
    "X_train, y_train, X_test, y_test, ct = prepare(train_df_cl, test_df_cl, [0, 1])"
   ]
  },
  {
   "cell_type": "code",
   "execution_count": 37,
   "metadata": {},
   "outputs": [
    {
     "data": {
      "text/html": [
       "<div>\n",
       "<style scoped>\n",
       "    .dataframe tbody tr th:only-of-type {\n",
       "        vertical-align: middle;\n",
       "    }\n",
       "\n",
       "    .dataframe tbody tr th {\n",
       "        vertical-align: top;\n",
       "    }\n",
       "\n",
       "    .dataframe thead th {\n",
       "        text-align: right;\n",
       "    }\n",
       "</style>\n",
       "<table border=\"1\" class=\"dataframe\">\n",
       "  <thead>\n",
       "    <tr style=\"text-align: right;\">\n",
       "      <th></th>\n",
       "      <th>Model</th>\n",
       "      <th>Accuracy</th>\n",
       "      <th>Miss-Class</th>\n",
       "      <th>Sensitivity</th>\n",
       "      <th>Specificity</th>\n",
       "      <th>Precision</th>\n",
       "      <th>F1</th>\n",
       "    </tr>\n",
       "  </thead>\n",
       "  <tbody>\n",
       "    <tr>\n",
       "      <th>0</th>\n",
       "      <td>Random Forest</td>\n",
       "      <td>0.732057</td>\n",
       "      <td>0.267943</td>\n",
       "      <td>0.677215</td>\n",
       "      <td>0.765385</td>\n",
       "      <td>0.765385</td>\n",
       "      <td>0.718606</td>\n",
       "    </tr>\n",
       "    <tr>\n",
       "      <th>1</th>\n",
       "      <td>Logistic Regression</td>\n",
       "      <td>0.772727</td>\n",
       "      <td>0.227273</td>\n",
       "      <td>0.727848</td>\n",
       "      <td>0.800000</td>\n",
       "      <td>0.800000</td>\n",
       "      <td>0.762220</td>\n",
       "    </tr>\n",
       "    <tr>\n",
       "      <th>2</th>\n",
       "      <td>XGBoost</td>\n",
       "      <td>0.779904</td>\n",
       "      <td>0.220096</td>\n",
       "      <td>0.677215</td>\n",
       "      <td>0.842308</td>\n",
       "      <td>0.842308</td>\n",
       "      <td>0.750793</td>\n",
       "    </tr>\n",
       "    <tr>\n",
       "      <th>3</th>\n",
       "      <td>Perceptron</td>\n",
       "      <td>0.705742</td>\n",
       "      <td>0.294258</td>\n",
       "      <td>0.765823</td>\n",
       "      <td>0.669231</td>\n",
       "      <td>0.669231</td>\n",
       "      <td>0.714276</td>\n",
       "    </tr>\n",
       "    <tr>\n",
       "      <th>4</th>\n",
       "      <td>Neural Network</td>\n",
       "      <td>0.739234</td>\n",
       "      <td>0.260766</td>\n",
       "      <td>0.575949</td>\n",
       "      <td>0.838462</td>\n",
       "      <td>0.838462</td>\n",
       "      <td>0.682845</td>\n",
       "    </tr>\n",
       "    <tr>\n",
       "      <th>5</th>\n",
       "      <td>KNN</td>\n",
       "      <td>0.779904</td>\n",
       "      <td>0.220096</td>\n",
       "      <td>0.626582</td>\n",
       "      <td>0.873077</td>\n",
       "      <td>0.873077</td>\n",
       "      <td>0.729572</td>\n",
       "    </tr>\n",
       "    <tr>\n",
       "      <th>6</th>\n",
       "      <td>SVM</td>\n",
       "      <td>0.787081</td>\n",
       "      <td>0.212919</td>\n",
       "      <td>0.677215</td>\n",
       "      <td>0.853846</td>\n",
       "      <td>0.853846</td>\n",
       "      <td>0.755342</td>\n",
       "    </tr>\n",
       "    <tr>\n",
       "      <th>7</th>\n",
       "      <td>K-Means</td>\n",
       "      <td>0.758373</td>\n",
       "      <td>0.241627</td>\n",
       "      <td>0.715190</td>\n",
       "      <td>0.784615</td>\n",
       "      <td>0.784615</td>\n",
       "      <td>0.748296</td>\n",
       "    </tr>\n",
       "    <tr>\n",
       "      <th>8</th>\n",
       "      <td>Hierachical Clustering</td>\n",
       "      <td>0.218855</td>\n",
       "      <td>0.781145</td>\n",
       "      <td>0.269006</td>\n",
       "      <td>0.187614</td>\n",
       "      <td>0.187614</td>\n",
       "      <td>0.221056</td>\n",
       "    </tr>\n",
       "  </tbody>\n",
       "</table>\n",
       "</div>"
      ],
      "text/plain": [
       "                    Model  Accuracy  Miss-Class  Sensitivity  Specificity  \\\n",
       "0           Random Forest  0.732057    0.267943     0.677215     0.765385   \n",
       "1     Logistic Regression  0.772727    0.227273     0.727848     0.800000   \n",
       "2                 XGBoost  0.779904    0.220096     0.677215     0.842308   \n",
       "3              Perceptron  0.705742    0.294258     0.765823     0.669231   \n",
       "4          Neural Network  0.739234    0.260766     0.575949     0.838462   \n",
       "5                     KNN  0.779904    0.220096     0.626582     0.873077   \n",
       "6                     SVM  0.787081    0.212919     0.677215     0.853846   \n",
       "7                 K-Means  0.758373    0.241627     0.715190     0.784615   \n",
       "8  Hierachical Clustering  0.218855    0.781145     0.269006     0.187614   \n",
       "\n",
       "   Precision        F1  \n",
       "0   0.765385  0.718606  \n",
       "1   0.800000  0.762220  \n",
       "2   0.842308  0.750793  \n",
       "3   0.669231  0.714276  \n",
       "4   0.838462  0.682845  \n",
       "5   0.873077  0.729572  \n",
       "6   0.853846  0.755342  \n",
       "7   0.784615  0.748296  \n",
       "8   0.187614  0.221056  "
      ]
     },
     "execution_count": 37,
     "metadata": {},
     "output_type": "execute_result"
    }
   ],
   "source": [
    "classifiers_names = [\"Random Forest\", \"Logistic Regression\", \"XGBoost\", \"Perceptron\",\n",
    "                     \"Neural Network\", \"KNN\", \"SVM\", \"K-Means\", \"Hierachical Clustering\"]\n",
    "confs = [rfi_cm, lr_cm, xgb_cm, per_cm, nn_cm, knn_cm, svm_cm, kme_cm, hcl_cm]\n",
    "ac_results = Calc_Metrics(confs, classifiers_names)\n",
    "ac_results"
   ]
  },
  {
   "cell_type": "code",
   "execution_count": null,
   "metadata": {},
   "outputs": [],
   "source": []
  },
  {
   "cell_type": "code",
   "execution_count": null,
   "metadata": {},
   "outputs": [],
   "source": []
  },
  {
   "cell_type": "code",
   "execution_count": null,
   "metadata": {},
   "outputs": [],
   "source": []
  },
  {
   "cell_type": "code",
   "execution_count": null,
   "metadata": {},
   "outputs": [],
   "source": []
  }
 ],
 "metadata": {
  "kernelspec": {
   "display_name": "Python 3",
   "language": "python",
   "name": "python3"
  },
  "language_info": {
   "codemirror_mode": {
    "name": "ipython",
    "version": 3
   },
   "file_extension": ".py",
   "mimetype": "text/x-python",
   "name": "python",
   "nbconvert_exporter": "python",
   "pygments_lexer": "ipython3",
   "version": "3.7.6"
  }
 },
 "nbformat": 4,
 "nbformat_minor": 4
}
